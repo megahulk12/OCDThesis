{
 "cells": [
  {
   "cell_type": "code",
   "execution_count": 10,
   "metadata": {
    "collapsed": true
   },
   "outputs": [
    {
     "data": {
      "text/plain": [
       "array([[18, 17,  2,  0,  0,  1,  1,  1],\n",
       "       [18, 30,  1,  2,  3,  1,  1,  0],\n",
       "       [18, 31,  4,  0,  0,  2,  0,  0],\n",
       "       [18, 39,  2,  2,  0,  2,  2,  3],\n",
       "       [19,  7,  1,  0,  1,  1,  0,  0],\n",
       "       [19, 13,  1,  0,  0,  1,  0,  0],\n",
       "       [19, 26,  2,  1,  0,  1,  1,  0],\n",
       "       [19, 27,  3,  1,  0,  1,  0,  0],\n",
       "       [19, 30,  3,  1,  1,  2,  2,  2],\n",
       "       [19, 31,  2,  2,  3,  4,  0,  1],\n",
       "       [19, 35,  4,  0,  2,  3,  1,  0],\n",
       "       [19, 36,  4,  0,  2,  3,  4,  0],\n",
       "       [19, 38,  2,  1,  3,  4,  2,  1],\n",
       "       [19, 38,  3,  1,  1,  4,  2,  2],\n",
       "       [19, 39,  4,  1,  1,  3,  2,  0],\n",
       "       [20,  9,  1,  0,  0,  0,  0,  0],\n",
       "       [20, 16,  3,  0,  1,  0,  0,  0],\n",
       "       [20, 17,  3,  0,  0,  2,  1,  2],\n",
       "       [20, 24,  2,  1,  2,  1,  0,  1],\n",
       "       [20, 24,  2,  0,  1,  0,  2,  1],\n",
       "       [20, 27,  2,  0,  1,  2,  1,  1],\n",
       "       [20, 31,  2,  1,  1,  2,  2,  1],\n",
       "       [20, 32,  2,  0,  3,  1,  2,  0],\n",
       "       [20, 38,  2,  0,  2,  3,  3,  2],\n",
       "       [20, 48,  3,  1,  3,  4,  3,  2],\n",
       "       [20, 52,  4,  2,  3,  2,  3,  4],\n",
       "       [21, 27,  1,  1,  1,  1,  1,  2],\n",
       "       [22, 20,  1,  0,  0,  3,  1,  1],\n",
       "       [22, 30,  4,  0,  0,  1,  4,  1],\n",
       "       [22, 32,  1,  0,  2,  2,  2,  0],\n",
       "       [23, 20,  2,  0,  0,  0,  3,  0],\n",
       "       [24, 42,  2,  2,  3,  2,  3,  2],\n",
       "       [24, 49,  3,  3,  4,  1,  4,  4],\n",
       "       [25, 30,  2,  2,  1,  3,  2,  2],\n",
       "       [23, 31,  4,  0,  0,  2,  0,  0],\n",
       "       [25, 48,  3,  1,  3,  3,  4,  4],\n",
       "       [27, 28,  1,  0,  3,  1,  1,  2],\n",
       "       [28, 25,  1,  1,  0,  4,  1,  1],\n",
       "       [28, 42,  2,  1,  2,  4,  3,  4],\n",
       "       [29, 17,  2,  0,  0,  1,  1,  1],\n",
       "       [29, 19,  3,  0,  0,  1,  0,  0],\n",
       "       [30, 10,  2,  0,  0,  0,  1,  1],\n",
       "       [30, 35,  3,  2,  1,  4,  1,  1],\n",
       "       [32,  2,  1,  0,  0,  0,  0,  0],\n",
       "       [32, 31,  1,  3,  0,  1,  1,  4],\n",
       "       [34, 24,  0,  0,  0,  3,  3,  0],\n",
       "       [34, 27,  1,  0,  3,  1,  2,  1],\n",
       "       [29, 31,  4,  0,  0,  2,  0,  0],\n",
       "       [37, 35,  2,  0,  2,  2,  2,  2],\n",
       "       [38, 35,  2,  0,  3,  0,  1,  2],\n",
       "       [40, 35,  3,  2,  1,  4,  3,  3],\n",
       "       [40, 37,  2,  0,  2,  3,  2,  1],\n",
       "       [54, 24,  2,  0,  1,  2,  1,  0]], dtype=int64)"
      ]
     },
     "execution_count": 10,
     "metadata": {},
     "output_type": "execute_result"
    }
   ],
   "source": [
    "import pandas as pd\n",
    "import numpy as np\n",
    "import csv\n",
    "from sklearn.naive_bayes import GaussianNB\n",
    "from sklearn import cross_validation\n",
    "from sklearn.metrics import confusion_matrix, classification_report\n",
    "from sklearn.cross_validation import cross_val_score\n",
    "\n",
    "raw = pd.read_csv(\"dataset.csv\")\n",
    "df = raw[['Age','OCIR Score','Q2','Q5','Q10','Q12','Q15','Q17']]\n",
    "df.as_matrix(columns=df.columns[0:])"
   ]
  },
  {
   "cell_type": "code",
   "execution_count": 11,
   "metadata": {},
   "outputs": [
    {
     "name": "stdout",
     "output_type": "stream",
     "text": [
      "Type of x <class 'numpy.ndarray'>\n",
      "type of y <class 'numpy.ndarray'>\n"
     ]
    },
    {
     "data": {
      "text/plain": [
       "GaussianNB(priors=None)"
      ]
     },
     "execution_count": 11,
     "metadata": {},
     "output_type": "execute_result"
    }
   ],
   "source": [
    "classifier = GaussianNB()\n",
    "\n",
    "x = df.values \n",
    "y = raw.Class.values\n",
    "print(\"Type of x {}\".format(type(x)))\n",
    "print(\"type of y {}\".format(type(y)))\n",
    "\n",
    "x_train, x_test, y_train, y_test = cross_validation.train_test_split(x,y, test_size=0.7, random_state = 0)\n",
    "classifier.fit(x_train, y_train)"
   ]
  },
  {
   "cell_type": "code",
   "execution_count": 12,
   "metadata": {},
   "outputs": [
    {
     "name": "stdout",
     "output_type": "stream",
     "text": [
      "Accuracy Score: 0.8157894736842105\n",
      "[[ 1  0]\n",
      " [ 7 30]]\n",
      "             precision    recall  f1-score   support\n",
      "\n",
      "          0       0.12      1.00      0.22         1\n",
      "          1       1.00      0.81      0.90        37\n",
      "\n",
      "avg / total       0.98      0.82      0.88        38\n",
      "\n"
     ]
    }
   ],
   "source": [
    "print (\"Accuracy Score: {}\".format(classifier.score(x_test, y_test)))\n",
    "print (confusion_matrix(classifier.predict(x_test), y_test))\n",
    "print (classification_report(classifier.predict(x_test), y_test))"
   ]
  },
  {
   "cell_type": "code",
   "execution_count": 13,
   "metadata": {
    "scrolled": true
   },
   "outputs": [
    {
     "name": "stdout",
     "output_type": "stream",
     "text": [
      "[ 1.    0.75  1.    0.5   1.    0.75  1.    0.75  1.    1.  ]\n",
      "Average: 0.875\n"
     ]
    },
    {
     "name": "stderr",
     "output_type": "stream",
     "text": [
      "C:\\ProgramData\\Anaconda3\\lib\\site-packages\\sklearn\\cross_validation.py:553: Warning: The least populated class in y has only 8 members, which is too few. The minimum number of labels for any class cannot be less than n_folds=10.\n",
      "  % (min_labels, self.n_folds)), Warning)\n"
     ]
    }
   ],
   "source": [
    "scores = cross_val_score(classifier, x_test, y_test, cv=10)\n",
    "print (scores)\n",
    "print(\"Average: {}\".format(scores.mean()))"
   ]
  },
  {
   "cell_type": "code",
   "execution_count": null,
   "metadata": {
    "collapsed": true
   },
   "outputs": [],
   "source": []
  }
 ],
 "metadata": {
  "kernelspec": {
   "display_name": "Python 3",
   "language": "python",
   "name": "python3"
  },
  "language_info": {
   "codemirror_mode": {
    "name": "ipython",
    "version": 3
   },
   "file_extension": ".py",
   "mimetype": "text/x-python",
   "name": "python",
   "nbconvert_exporter": "python",
   "pygments_lexer": "ipython3",
   "version": "3.5.6"
  }
 },
 "nbformat": 4,
 "nbformat_minor": 2
}
