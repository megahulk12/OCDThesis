{
 "cells": [
  {
   "cell_type": "code",
   "execution_count": 1,
   "metadata": {},
   "outputs": [
    {
     "name": "stderr",
     "output_type": "stream",
     "text": [
      "DEBUG:matplotlib:$HOME=C:\\Users\\Paolo\n",
      "DEBUG:matplotlib:matplotlib data path C:\\Users\\Paolo\\Anaconda3\\lib\\site-packages\\matplotlib\\mpl-data\n",
      "DEBUG:matplotlib:loaded rc file C:\\Users\\Paolo\\Anaconda3\\lib\\site-packages\\matplotlib\\mpl-data\\matplotlibrc\n",
      "DEBUG:matplotlib:matplotlib version 2.2.2\n",
      "DEBUG:matplotlib:interactive is False\n",
      "DEBUG:matplotlib:platform is win32\n",
      "DEBUG:matplotlib:loaded modules: ['matplotlib._version', 'array', 'imp', 'numpy.core.multiarray', 'bottleneck.nonreduce_axis', 'dateutil.relativedelta', 're', 'pandas.core.nanops', 'IPython.core.macro', '_ssl', 'pandas.plotting._converter', 'pandas.core.indexes.frozen', 'pandas.compat.numpy.function', 'numpy.core.shape_base', 'asyncio.selector_events', 'tornado.concurrent', '_signal', 'pandas.core.sorting', 'pydoc_data', 'pandas.core.indexes.range', 'linecache', 'zipimport', 'pandas.core.frame', 'ipykernel.ipkernel', 'pandas.core.dtypes.generic', 'IPython.utils.sentinel', 'http.client', 'matplotlib.compat', 'prompt_toolkit.key_binding.defaults', 'prompt_toolkit.layout.mouse_handlers', 'pygments.token', 'ast', 'pandas.core.ops', 'IPython.utils.importstring', 'typing', 'IPython.utils.decorators', 'numpy.polynomial.hermite_e', 'importlib._bootstrap_external', 'dateutil._version', 'jupyter_core.paths', 'pandas.core', 'numpy.lib.ufunclike', 'IPython.core.completer', 'dateutil.parser.isoparser', 'pygments.formatters.html', 'builtins', 'locale', 'lzma', '_javabridge', 'jupyter_client', 'jedi.evaluate.compiled.mixed', 'pandas._libs.tslib', 'pandas._libs.hashtable', 'json.encoder', 'numpy.ma', 'prompt_toolkit.key_binding.bindings.named_commands', 'dateutil.tz', 'pandas.core.indexes.period', '_random', 'prompt_toolkit.key_binding', 'prompt_toolkit.document', 'functools', 'prompt_toolkit.cache', 'enum', 'IPython.core.logger', 'numpy.core.function_base', 'ipython_genutils.encoding', 'tornado.platform.windows', 'asyncio', 'jedi.evaluate.flow_analysis', 'cProfile', 'ctypes', 'ipykernel.kernelbase', 'ipykernel.datapub', 'parso._compatibility', 'IPython.terminal.ptutils', 'numpy.lib.arraysetops', 'jedi.evaluate.filters', 'string', 'prompt_toolkit.layout.containers', 'dateutil.tz.win', 'IPython.lib.backgroundjobs', 'runpy', 'errno', 'bottleneck.benchmark.bench', 'prompt_toolkit.selection', 'backcall', 'IPython.utils.signatures', 'prompt_toolkit.layout.lexers', 'encodings.aliases', 'datetime', 'pandas._libs.tslibs.np_datetime', 'shlex', 'json', 'scipy._lib.six', 'IPython.lib.security', 'pytz', 'bottleneck.benchmark.autotimeit', 'traitlets.utils.getargspec', '_collections_abc', 'jedi.evaluate.cache', 'IPython.utils.tokenize2', 'urllib.error', 'pandas._libs.internals', 'unittest.result', 'pathlib', 'IPython.core.application', 'pandas.io.formats.console', 'ipykernel.serialize', 'pydoc_data.topics', 'numpy.fft.info', 'prompt_toolkit.enums', 'scipy._lib', 'encodings.cp437', 'asyncio.streams', 'gettext', 'pandas._libs.missing', 'IPython.display', 'pstats', 'pandas.tseries', 'pandas.core.dtypes.missing', '_collections', '_weakrefset', 'matplotlib._color_data', 'javabridge', 'javabridge.wrappers', 'ipykernel._version', 'jupyter_client.session', '_datetime', 'jedi.debug', 'tornado.platform.interface', 'pygments.lexer', 'six', 'matplotlib.cbook._backports', 'shutil', 'tornado.util', 'ipywidgets.widgets.widget_int', 'traitlets.utils.sentinel', 'typing.re', 'IPython.core', 'ipywidgets.widgets.widget_selection', 'numpy.lib.info', 'numpy.polynomial', 'scipy.version', 'jedi.evaluate.compiled', 'urllib', 'IPython.core.magics.script', 'numpy.fft.fftpack_lite', 'dateutil', 'email.iterators', '_imp', 'IPython.utils.timing', 'zmq.backend.cython.context', 'prompt_toolkit.layout', 'numpy.linalg.info', 'prompt_toolkit.key_binding.registry', 'IPython.utils.PyColorize', 'zmq.sugar', 'tornado', 'ipykernel.comm.manager', '_hashlib', 'numpy.lib.scimath', 'IPython.utils.contexts', 'concurrent.futures', 'tempfile', 'numpy.core.records', 'pygments.styles.default', 'numpy.core._internal', 'multiprocessing.util', 'genericpath', 'prompt_toolkit.filters.utils', 'ipywidgets.widgets.widget_description', 'multiprocessing.process', 'IPython.terminal.pt_inputhooks', 'pandas._libs.tslibs.frequencies', 'traitlets.utils', 'numpy.core.umath', 'zmq.backend.cython.constants', 'dis', 'pygments.plugin', 'numpy._import_tools', 'IPython.utils.tempdir', 'numpy._distributor_init', 'tornado.speedups', 'prompt_toolkit.output', 'zmq.backend.cython.error', 'numpy.lib.polynomial', 'IPython.core.interactiveshell', 'pandas._libs.lib', 'prompt_toolkit.layout.menus', 'pickleshare', 'sre_parse', 'IPython.core.error', 'pandas.core.accessor', 'prompt_toolkit.styles.utils', 'numpy.random.info', 'pydoc', 'ipykernel.kernelapp', 'numpy.linalg', 'parso.tree', 'matplotlib', 'javabridge.locate', 'tornado.platform.common', 'filecmp', 'pandas.core.config_init', 'numpy.lib.function_base', 'distutils.errors', 'concurrent', 'IPython.terminal.shortcuts', '_decimal', 'unittest.util', 'IPython.core.magics.pylab', 'jedi.common.utils', 'numpy.core.info', 'prompt_toolkit.key_binding.bindings.completion', 'quopri', 'IPython.utils.coloransi', 'IPython.extensions', 'parso.python.pep8', 'encodings.latin_1', 'prompt_toolkit.filters.cli', 'fnmatch', 'ipykernel.comm.comm', 'numpy.polynomial._polybase', 'jedi.evaluate.compiled.subprocess', 'zmq.backend.cython._version', 'ipywidgets.widgets.widget_date', 'prompt_toolkit.layout.toolbars', 'numpy.polynomial.laguerre', 'zmq.backend', 'IPython.utils.py3compat', 'ipywidgets.widgets.widget', 'email.quoprimime', 'dateutil._common', 'parso.python.tree', 'pygments.styles', 'numpy.matrixlib.defmatrix', 'time', 'ipywidgets.widgets.valuewidget', 'zmq.sugar.attrsettr', 'pandas._libs.tslibs.fields', 'IPython.core.prefilter', 'numpy.testing', 'IPython.utils.openpy', 'IPython.core.usage', 'prompt_toolkit', 'sphinxcontrib', 'javabridge.jutil', 'sysconfig', 'collections.abc', 'pandas.core.api', 'ipykernel.displayhook', 'pygments.style', 'pandas._libs.interval', 'textwrap', 'numpy.lib.index_tricks', 'jedi.api.project', 'IPython.core.release', 'wcwidth.table_wide', 'IPython.core.inputtransformer', 'pandas.io.formats.printing', 'abc', 'pandas.core.dtypes.cast', 'IPython.utils.path', 'encodings.cp1252', 'matplotlib.colors', 'email.header', 'itertools', 'cython_runtime', 'pandas._libs', 'multiprocessing.reduction', 'pandas.core.dtypes.inference', 'optparse', 'numpy.testing.nose_tools.utils', 'prompt_toolkit.key_binding.vi_state', 'pygments', 'pandas.core.indexes', 'scipy._lib._ccallback', 'jedi.evaluate.compiled.getattr_static', 'atexit', 'prompt_toolkit.layout.processors', 'pkgutil', 'asyncio.compat', 'bottleneck.nonreduce', 'asyncio.events', 'jedi.evaluate.analysis', 'numpy._globals', 'pandas.core.generic', 'jedi', 'importlib.abc', 'prompt_toolkit.styles.from_pygments', 'zmq.utils.constant_names', 'jedi.evaluate.compiled.context', 'prompt_toolkit.key_binding.bindings.vi', 'ipywidgets.widgets.widget_style', 'asyncio.windows_events', 'IPython.core.magics.code', 'parso.utils', 'pandas.core.indexes.category', '_bz2', 'unittest.case', 'mpl_toolkits', 'parso.python.token', '_compression', 'scipy._distributor_init', '_pickle', 'zmq.sugar.stopwatch', 'jedi.evaluate.usages', 'numpy.lib.arraypad', 'uuid', 'bottleneck.benchmark', 'colorama.initialise', 'jedi.common.context', 'zmq.utils.strtypes', 'traitlets.config.configurable', 'pandas.core.strings', 'weakref', 'backcall.backcall', 'tornado.platform.auto', 'numpy', 'pytz.exceptions', 'IPython', 'traitlets.utils.bunch', 'matplotlib.compat.subprocess', 'numpy.ma.extras', 'prompt_toolkit.filters.base', 'IPython.core.oinspect', 'jedi.api.interpreter', 'IPython.core.crashhandler', 'bottleneck.tests.util', 'pytz.tzinfo', 'pygments.regexopt', 'prompt_toolkit.terminal.win32_output', 'mkl_fft._pydfti', 'parso.python.prefix', 'faulthandler', 'ipykernel.comm', 'multiprocessing.connection', 'pandas.core.sparse.array', 'prompt_toolkit.filters.types', 'asyncio.futures', 'ipywidgets.widgets.interaction', 'jupyter_client.blocking.client', 'bottleneck.slow', 'IPython.utils._process_common', 'platform', 'sqlite3', 'parso.python', 'numpy.ctypeslib', 'numpy.linalg.linalg', 'pickle', 'pandas.core.base', 'numpy.lib', 'gzip', 'nturl2path', 'collections', '_bisect', 'json.decoder', 'unittest.suite', 'pytz.lazy', 'pandas.core.index', 'sqlite3.dbapi2', 'prompt_toolkit.layout.dimension', '_ctypes', 'jedi.api.completion', 'pandas.util._decorators', 'zmq.sugar.context', 'colorama', 'glob', 'pandas.core.sparse', 'pandas.core.dtypes.common', 'numpy.core.defchararray', 'email.parser', 'numpy.ma.core', '_overlapped', 'IPython.core.magics.extension', 'jedi.evaluate.context', 'os.path', 'zmq.sugar.socket', 'ctypes.wintypes', 'bottleneck.version', 'encodings.utf_8', 'bottleneck.reduce', 'jedi.evaluate.syntax_tree', 'email._parseaddr', 'numpy.testing.nose_tools.nosetester', 'IPython.core.display_trap', 'prompt_toolkit.layout.prompt', 'pandas.util', 'IPython.core.profiledir', 'pandas.core.indexes.numeric', 'jupyter_client.clientabc', 'IPython.core.autocall', 'email.charset', 'IPython.terminal', 'pandas.core.dtypes', 'pandas._libs.indexing', 'parso.grammar', 'prompt_toolkit.key_binding.bindings', 'IPython.core.hooks', 'prompt_toolkit.buffer', 'distutils', 'multiprocessing', 'simplegeneric', 'jedi.evaluate.parser_cache', 'jupyter_client.blocking', 'numpy.fft.fftpack', 'IPython.utils', 'numpy.polynomial.hermite', 'IPython.core.compilerop', 'zmq.sugar.version', 'uu', 'traitlets.config', 'numpy.polynomial.polynomial', 'prompt_toolkit.search_state', 'urllib.parse', 'prompt_toolkit.terminal.conemu_output', 'unittest.runner', 'ipywidgets._version', 'mmap', 'pygments.formatter', 'IPython.lib.clipboard', 'pprint', '_json', 'jedi.evaluate.sys_path', 'logging', 'bottleneck.slow.nonreduce', 'tornado.stack_context', 'jedi.api.environment', 'IPython.utils.text', 'distutils.version', 'ipywidgets.widgets.widget_layout', 'IPython.core.magics', 'traitlets._version', 'jedi.evaluate.recursion', 'inspect', 'IPython.utils.strdispatch', '_cython_0_28_4', 'prompt_toolkit.buffer_mapping', 'numpy.compat.py3k', 'pandas._libs.ops', 'jedi.evaluate.helpers', 'zmq.sugar.poll', 'prompt_toolkit.shortcuts', 'IPython.utils.sysinfo', 'pygments.lexers.python', '_weakref', 'asyncio.proactor_events', 'wcwidth.table_zero', 'opcode', 'jedi.settings', 'marshal', '_stat', 'pandas._libs.tslibs.conversion', 'pandas._libs.tslibs', 'prompt_toolkit.win32_types', 'email.encoders', '_socket', 'IPython.core.alias', '_frozen_importlib', 'IPython.testing', 'prompt_toolkit.renderer', 'pandas.io.formats.terminal', 'ipywidgets', 'pandas.core.indexing', '_codecs', 'numpy.core.machar', '_locale', 'matplotlib.cbook', 'hashlib', 'jedi.api.helpers', '_frozen_importlib_external', 'prompt_toolkit.auto_suggest', 'scipy._lib._version', '_csv', 'pandas.util._validators', 'IPython.utils.terminal', 'ipykernel.pickleutil', 'numpy.fft.helper', 'pandas.core.groupby', 'ipykernel.connect', 'prompt_toolkit.key_binding.bindings.scroll', 'warnings', 'jupyter_client.localinterfaces', 'pandas._libs.sparse', 'pytz.tzfile', 'prompt_toolkit.mouse_events', 'IPython.testing.skipdoctest', 'numpy.core.memmap', 'math', 'IPython.core.inputsplitter', 'numpy._mklinit', 'ipywidgets.widgets.trait_types', 'prompt_toolkit.utils', 'zmq', 'six.moves.urllib.request', 'pandas.io.formats', 'IPython.utils.frame', 'pandas._libs.tslibs.period', 'numpy.lib._version', 'zmq.backend.cython._device', 'prompt_toolkit.terminal', 'scipy._lib._ccallback_c', 'pandas._libs.tslibs.nattype', 'pandas.plotting._style', '_warnings', 'IPython.core.splitinput', 'prompt_toolkit.eventloop', 'asyncio.constants', 'traitlets.config.loader', 'prompt_toolkit.styles.defaults', 'pandas.core.internals', 'bisect', 'ipywidgets.widgets', 'prompt_toolkit.filters', '_functools', 'ipywidgets.widgets.docutils', 'pandas._libs.tslibs.timezones', 'distutils.sysconfig', 'numpy.core.numerictypes', 'jedi._compatibility', 'prompt_toolkit.layout.utils', 'zmq.backend.cython', 'random', 'matplotlib.cbook.deprecation', 'pandas.io.common', 'ipykernel.codeutil', 'IPython.utils._sysinfo', 'IPython.core.magics.osm', 'zlib', 'pandas', 'unittest.signals', 'pygments.lexers', 'pandas.core.groupby.groupby', 'IPython.core.latex_symbols', 'jupyter_client._version', 'IPython.core.completerlib', 'asyncio.queues', 'asyncio.base_events', 'prompt_toolkit.clipboard.in_memory', '_multiprocessing', 'importlib.machinery', 'IPython.core.magics.display', 'pandas.core.indexes.base', 'bottleneck.slow.reduce', 'pandas._libs.properties', 'concurrent.futures.process', 'IPython.terminal.magics', 'IPython.core.ultratb', 'traitlets.traitlets', 'parso.python.errors', 'weka', 'asyncio.coroutines', 'prompt_toolkit.layout.margins', 'parso', 'dateutil.tz._factories', 'pandas.core.arrays.categorical', 'asyncio.protocols', 'parso.python.diff', 'IPython.core.debugger', 'site', 'pdb', 'ipython_genutils.path', 'matplotlib.testing', 'numpy.linalg._umath_linalg', 'pandas.core.dtypes.dtypes', 'wcwidth', 'msvcrt', 'prompt_toolkit.clipboard', 'codeop', 'ipython_genutils._version', 'IPython.utils.encoding', 'parso.normalizer', 'jedi.evaluate.context.module', 'prompt_toolkit.application', 'jedi.evaluate.finder', '__future__', 'IPython.terminal.debugger', 'IPython.terminal.ipapp', 'IPython.core.magics.history', 'pandas.core.indexes.accessors', 'IPython.core.pylabtools', '_io', 'email.utils', 'os', 'http', 'javabridge._javabridge', 'IPython.lib', 'numpy.core', 'jedi.api.keywords', 'IPython.utils.dir2', 'jedi.evaluate.compiled.access', 'ipykernel.heartbeat', '_thread', '_string', 'urllib.response', 'tokenize', 'ipykernel.iostream', 'jedi.evaluate.utils', 'codecs', 'zmq.error', 'numpy.lib.arrayterator', 'IPython.terminal.prompts', 'operator', 'binascii', 'zmq.eventloop.zmqstream', 'IPython.core.shellapp', 'email.feedparser', 'numpy.polynomial.chebyshev', 'numpy.core.einsumfunc', '_sre', 'numbers', 'pandas._libs.tslibs.resolution', 'jupyter_client.launcher', '_cython_0_28_5', 'pandas.core.tools', 'pandas._libs.tslibs.timedeltas', 'zmq.backend.cython.socket', 'prompt_toolkit.terminal.win32_input', 'jupyter_client.connect', 'numpy.lib.financial', 'numpy.testing.nose_tools.decorators', '_opcode', 'prompt_toolkit.keys', 'html', '_compat_pickle', '_cython_0_27_3', 'pandas.tseries.offsets', 'logging.handlers', 'jedi.evaluate.context.iterable', 'bottleneck.benchmark.bench_detailed', 'pandas._libs.tslibs.parsing', 'IPython.utils.syspathcontext', 'IPython.core.history', 'getpass', 'numpy.core.fromnumeric', 'numpy.lib._iotools', 'weka.core.jvm', 'zmq.sugar.frame', 'jupyter_client.blocking.channels', 'matplotlib.fontconfig_pattern', 'numpy.add_newdocs', 'jedi.evaluate', '_lsprof', 'ipywidgets.widgets.widget_float', 'zmq.eventloop.ioloop', 'email.message', 'jupyter_client.client', 'IPython.core.formatters', 'mkl_fft._numpy_fft', 'jupyter_client.adapter', 'numpy.core.getlimits', 'pandas.core.missing', 'struct', 'six.moves', 'scipy', 'email', 'bz2', 'argparse', 'tornado.escape', 'colorama.winterm', 'pandas.io.formats.format', 'parso.pgen2.grammar_parser', 'ntpath', 'numpy.linalg.lapack_lite', 'ctypes.util', 'IPython.utils.process', 'asyncio.transports', 'asyncio.base_subprocess', 'prompt_toolkit.terminal.vt100_output', 'ipywidgets.widgets.widget_output', 'multiprocessing.context', 'pandas.core.common', 'jedi.common', 'pandas.core.tools.timedeltas', 'IPython.core.magics.logging', 'parso.cache', 'IPython.core.magic', '_bootlocale', 'ipython_genutils.text', 'traitlets.config.application', 'pandas._libs.join', 'ipython_genutils.importstring', 'IPython.core.events', 'numpy.random.mtrand', 'dateutil.tz._common', 'bottleneck.slow.nonreduce_axis', 'wcwidth.wcwidth', 'ipykernel.zmqshell', 'IPython.core.magics.auto', 'zmq.backend.cython._poll', 'prompt_toolkit.token', 'ipywidgets.widgets.widget_button', 'dateutil.tz.tz', 'html.entities', 'pandas.core.tools.datetimes', 'numpy.version', 'IPython.core.display', 'ipywidgets.widgets.widget_selectioncontainer', 'IPython.terminal.interactiveshell', 'ipywidgets.widgets.widget_link', 'email.base64mime', 'IPython.core.builtin_trap', 'numpy.core.arrayprint', 'pandas.compat.chainmap', 'zmq.sugar.constants', 'zmq.backend.select', 'subprocess', 'numpy.core.numeric', 'pandas.plotting._tools', 'prompt_toolkit.key_binding.input_processor', 'jupyter_core.version', 'numpy.lib.npyio', 'jedi.evaluate.base_context', 'asyncio.windows_utils', 'jedi.parser_utils', 'numpy.compat', 'numpy.testing.nose_tools', 'dateutil.easter', '_ast', 'pandas.plotting', 'prompt_toolkit.styles.from_dict', 'queue', 'IPython.core.magics.execution', 'tornado.platform', 'prompt_toolkit.completion', 'pandas.compat.numpy', 'tornado.ioloop', 'typing.io', 'pygments.unistring', 'colorama.win32', '__mp_main__', 'IPython.lib.pretty', 'tornado.log', 'calendar', 'jedi.evaluate.compiled.subprocess.functions', 'jupyter_client.manager', 'bottleneck.move', 'base64', 'ipaddress', 'IPython.core.magic_arguments', 'ipykernel', 'zope', 'ipywidgets.widgets.widget_core', '__main__', 'keyword', 'jupyter_client.channelsabc', 'decorator', 'nt', 'zmq.utils', 'IPython.core.page', 'ipykernel.jsonutil', 'numpy.lib.shape_base', 'ipywidgets.widgets.domwidget', 'prompt_toolkit.key_binding.digraphs', 'IPython.utils.colorable', 'numpy.polynomial.polyutils', 'json.scanner', 'copyreg', 'cmd', 'gc', 'sre_compile', 'ipywidgets.widgets.widget_bool', 'pandas.core.indexes.datetimelike', 'bottleneck', '_struct', 'pandas.core.util', 'prompt_toolkit.validation', 'jedi.evaluate.param', 'IPython.lib.display', 'hmac', 'importlib.util', 'pandas.io', 'pandas.core.indexes.timedeltas', 'IPython.utils.capture', 'dateutil.parser._parser', 'weka.core', 'jupyter_client.multikernelmanager', 'pandas._libs.tslibs.strptime', 'IPython.utils._process_win32', 'parso.python.tokenize', 'numpy.compat._inspect', 'IPython.utils.tokenutil', 'numpy.__config__', 'parso.python.parser', 'pandas.core.arrays', 'asyncio.tasks', 'jupyter_client.jsonutil', 'encodings.mbcs', 'pygments.filter', 'importlib', 'prompt_toolkit.input', 'IPython.core.excolors', 'numpy.fft', 'pandas._libs.index', 'zmq.eventloop', 'jedi.evaluate.imports', 'prompt_toolkit.key_binding.manager', 'email._policybase', 'jupyter_client.kernelspec', 'dateutil.parser', 'jupyter_client.channels', 'IPython.core.magics.namespace', 'jedi.evaluate.lazy_context', 'numpy.polynomial.legendre', 'bdb', 'jedi.evaluate.compiled.fake', 'zmq.backend.cython.message', 'jedi.evaluate.context.klass', 'contextlib', 'decimal', 'IPython.core.extensions', 'io', 'jedi.evaluate.context.asynchronous', 'mimetypes', 'zmq.backend.cython.utils', 'prompt_toolkit.interface', 'pandas.core.algorithms', 'mtrand', 'IPython.core.magics.config', 'asyncio.sslproto', 'numpy.lib.nanfunctions', 'numpy.matrixlib', 'copy', 'pandas.compat', 'pandas.core.indexes.interval', 'pandas.core.util.hashing', 'numpy.core.multiarray_tests', 'pandas.core.series', 'numpy.random', 'IPython.terminal.embed', 'jupyter_client.managerabc', 'zmq.sugar.tracker', 'winreg', 'IPython.extensions.storemagic', '_operator', 'IPython.core.getipython', 'prompt_toolkit.layout.controls', 'IPython.utils.module_paths', 'parso.parser', 'timeit', 'prompt_toolkit.clipboard.base', '_heapq', 'prompt_toolkit.key_binding.bindings.emacs', 'bottleneck.tests', 'jedi.api.classes', 'threading', 'ipywidgets.widgets.widget_color', 'pandas._libs.hashing', 'getopt', 'pyparsing', 'csv', 'prompt_toolkit.eventloop.base', 'ctypes._endian', 'ipywidgets.widgets.widget_media', 'parso.pgen2', 'unittest.loader', 'six.moves.urllib', 'pandas.core.arrays.base', 'asyncio.log', 'IPython.core.displayhook', 'numpy.lib.mixins', 'sre_constants', 'pandas.tseries.frequencies', 'unittest', '_lzma', 'pandas.plotting._core', 'IPython.utils.wildcard', 'numpy.testing.decorators', 'difflib', 'cycler', 'pandas.core.indexes.multi', 'IPython.core.displaypub', 'pygments.formatters', 'tornado.platform.asyncio', 'code', 'jedi.api.exceptions', 'parso.pgen2.generator', 'ipywidgets.widgets.widget_box', 'jupyter_core', 'IPython.utils.io', 'IPython.utils.data', 'pygments.modeline', 'pandas.plotting._misc', 'colorama.ansitowin32', 'ipywidgets.widgets.widget_controller', 'IPython.paths', 'email._encoded_words', 'pygments.lexers._mapping', 'prompt_toolkit.eventloop.callbacks', 'pandas.core.indexes.api', 'IPython.utils.generics', 'token', 'numpy.testing.utils', 'prompt_toolkit.key_binding.bindings.basic', 'prompt_toolkit.styles.base', 'numpy.lib.utils', 'jedi.evaluate.pep0484', '_strptime', 'importlib._bootstrap', 'scipy._lib._testutils', 'colorama.ansi', 'ipython_genutils', 'pandas.plotting._compat', 'reprlib', 'ipykernel.parentpoller', 'posixpath', 'types', 'numpy.lib._datasource', '_sitebuiltins', 'pandas.errors', 'email.errors', 'prompt_toolkit.reactive', 'pandas._libs.tslibs.offsets', 'select', 'pandas.core.indexes.datetimes', 'socket', 'unicodedata', 'matplotlib.rcsetup', '_sqlite3', 'prompt_toolkit.history', 'pygments.formatters._mapping', 'tornado.gen', 'ipywidgets.widgets.widget_string', 'zipfile', 'pygments.filters', 'jedi.evaluate.context.instance', 'prompt_toolkit.layout.screen', 'pandas._libs.tslibs.ccalendar', 'IPython.core.payloadpage', 'scipy.__config__', 'pygments.util', 'numpy.lib.type_check', 'jedi.evaluate.arguments', 'mkl_fft', 'numpy.testing.nosetester', 'ipython_genutils.py3compat', 'traitlets', '_winapi', 'jedi.evaluate.context.function', 'numpy.lib.format', 'unittest.main', 'concurrent.futures._base', 'jedi.evaluate.docstrings', 'pandas.core.dtypes.base', 'concurrent.futures.thread', 'pandas._libs.algos', 'heapq', 'asyncio.subprocess', 'asyncio.locks', 'encodings', 'numpy.lib.stride_tricks', 'jedi.api', 'traitlets.utils.importstring', 'sys', 'pandas.core.dtypes.concat', 'traceback', 'signal', 'prompt_toolkit.styles', 'numpy.core._methods', 'selectors', 'urllib.request', 'pandas._libs.tslibs.timestamps', 'storemagic', 'profile', 'pandas.core.config', 'IPython.core.payload', 'IPython.core.magics.basic', 'ssl', 'IPython.utils.ipstruct', 'numpy.lib.twodim_base', 'zmq.utils.jsonapi', 'bottleneck.slow.move', 'stat', 'traitlets.log', 'jedi.cache']\n"
     ]
    },
    {
     "name": "stderr",
     "output_type": "stream",
     "text": [
      "DEBUG:weka.core.jvm:Adding bundled jars\n",
      "DEBUG:weka.core.jvm:Classpath=['C:\\\\Users\\\\Paolo\\\\Anaconda3\\\\lib\\\\site-packages\\\\javabridge\\\\jars\\\\rhino-1.7R4.jar', 'C:\\\\Users\\\\Paolo\\\\Anaconda3\\\\lib\\\\site-packages\\\\javabridge\\\\jars\\\\runnablequeue.jar', 'C:\\\\Users\\\\Paolo\\\\Anaconda3\\\\lib\\\\site-packages\\\\javabridge\\\\jars\\\\cpython.jar', 'C:\\\\Users\\\\Paolo\\\\Anaconda3\\\\lib\\\\site-packages\\\\weka\\\\lib\\\\python-weka-wrapper.jar', 'C:\\\\Users\\\\Paolo\\\\Anaconda3\\\\lib\\\\site-packages\\\\weka\\\\lib\\\\weka.jar']\n",
      "DEBUG:weka.core.jvm:MaxHeapSize=default\n",
      "DEBUG:weka.core.jvm:Package support enabled\n",
      "DEBUG:javabridge.jutil:Creating JVM object\n",
      "DEBUG:javabridge.jutil:Signalling caller\n"
     ]
    }
   ],
   "source": [
    "import warnings\n",
    "import weka.core.jvm as jvm\n",
    "import pandas as pd\n",
    "import numpy as np\n",
    "import csv\n",
    "\n",
    "jvm.start(packages=True)\n",
    "warnings.simplefilter(action='ignore', category=FutureWarning)\n",
    "\n",
    "from weka.core.converters import Loader\n",
    "l = Loader(\"weka.core.converters.ArffLoader\")\n",
    "# d = l.load_file(\"C:\\Users\\Paolo\\Documents\\school stuff\\4th Year\\for Implementation\\dataset_Updated.arff\")\n",
    "d = l.load_file(\"C:\\Program Files\\Weka-3-8\\data\\dataset_new.arff\")\n",
    "#print(d)"
   ]
  },
  {
   "cell_type": "code",
   "execution_count": 2,
   "metadata": {},
   "outputs": [],
   "source": [
    "import weka.core.jvm as jvm\n",
    "import weka.core.serialization as serialization\n",
    "from weka.classifiers import Classifier\n",
    "data = d\n",
    "data.class_is_last()\n",
    "objects = serialization.read_all(\"NBTree_trained.model\")\n",
    "classifier = Classifier(jobject=objects[0])"
   ]
  },
  {
   "cell_type": "code",
   "execution_count": 3,
   "metadata": {},
   "outputs": [],
   "source": [
    "#classifier.classify_instance(inst=data.get_instance(index=4))"
   ]
  },
  {
   "cell_type": "code",
   "execution_count": 4,
   "metadata": {},
   "outputs": [],
   "source": [
    "from weka.core import dataset\n",
    "from weka.core.dataset import Instance"
   ]
  },
  {
   "cell_type": "code",
   "execution_count": 5,
   "metadata": {},
   "outputs": [
    {
     "name": "stdout",
     "output_type": "stream",
     "text": [
      "Input list here : 20 1 0 0 0 0 0 0 0 0 0\n"
     ]
    }
   ],
   "source": [
    "age, gender, mar_stat, ocd_hist, q2, q5, q10, q12, q13, q15,q17 = input(\"Input list here : \").split(\" \")"
   ]
  },
  {
   "cell_type": "code",
   "execution_count": 6,
   "metadata": {},
   "outputs": [
    {
     "name": "stdout",
     "output_type": "stream",
     "text": [
      "No OCD\n"
     ]
    }
   ],
   "source": [
    "x = [age, gender, mar_stat, ocd_hist, q2, q5, q10, q12, q13, q15, q17]\n",
    "x.append(Instance.missing_value())\n",
    "data.add_instance(inst=Instance.create_instance(x))\n",
    "classify = classifier.classify_instance(inst=data.get_instance(index=data.num_instances - 1)) \n",
    "if (classify == 0.0):\n",
    "    print(\"No OCD\")\n",
    "else:\n",
    "    print(\"OCD\")"
   ]
  },
  {
   "cell_type": "code",
   "execution_count": 1,
   "metadata": {},
   "outputs": [
    {
     "ename": "NameError",
     "evalue": "name 'y_test' is not defined",
     "output_type": "error",
     "traceback": [
      "\u001b[1;31m---------------------------------------------------------------------------\u001b[0m",
      "\u001b[1;31mNameError\u001b[0m                                 Traceback (most recent call last)",
      "\u001b[1;32m<ipython-input-1-0b01f6afb7b2>\u001b[0m in \u001b[0;36m<module>\u001b[1;34m()\u001b[0m\n\u001b[0;32m      1\u001b[0m \u001b[1;32mfrom\u001b[0m \u001b[0msklearn\u001b[0m\u001b[1;33m.\u001b[0m\u001b[0mmetrics\u001b[0m \u001b[1;32mimport\u001b[0m \u001b[0mconfusion_matrix\u001b[0m\u001b[1;33m\u001b[0m\u001b[0m\n\u001b[1;32m----> 2\u001b[1;33m \u001b[0mconfusion_matrix\u001b[0m\u001b[1;33m(\u001b[0m\u001b[0my_test\u001b[0m\u001b[1;33m,\u001b[0m \u001b[0my_pred\u001b[0m\u001b[1;33m)\u001b[0m\u001b[1;33m\u001b[0m\u001b[0m\n\u001b[0m",
      "\u001b[1;31mNameError\u001b[0m: name 'y_test' is not defined"
     ]
    }
   ],
   "source": [
    "from sklearn.metrics import confusion_matrix\n",
    "confusion_matrix(y_test, y_pred)"
   ]
  },
  {
   "cell_type": "code",
   "execution_count": 7,
   "metadata": {},
   "outputs": [],
   "source": [
    "#print(data)"
   ]
  },
  {
   "cell_type": "code",
   "execution_count": 8,
   "metadata": {},
   "outputs": [],
   "source": [
    "jvm.stop()"
   ]
  },
  {
   "cell_type": "code",
   "execution_count": null,
   "metadata": {},
   "outputs": [],
   "source": []
  }
 ],
 "metadata": {
  "kernelspec": {
   "display_name": "Python 3",
   "language": "python",
   "name": "python3"
  },
  "language_info": {
   "codemirror_mode": {
    "name": "ipython",
    "version": 3
   },
   "file_extension": ".py",
   "mimetype": "text/x-python",
   "name": "python",
   "nbconvert_exporter": "python",
   "pygments_lexer": "ipython3",
   "version": "3.5.6"
  }
 },
 "nbformat": 4,
 "nbformat_minor": 2
}
