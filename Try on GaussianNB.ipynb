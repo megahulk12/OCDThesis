{
 "cells": [
  {
   "cell_type": "code",
   "execution_count": 8,
   "metadata": {
    "collapsed": true
   },
   "outputs": [
    {
     "data": {
      "text/plain": [
       "array([[18, 17,  2,  0,  0,  1,  1,  1],\n",
       "       [18, 30,  1,  2,  3,  1,  1,  0],\n",
       "       [18, 31,  4,  0,  0,  2,  0,  0],\n",
       "       [18, 39,  2,  2,  0,  2,  2,  3],\n",
       "       [19,  7,  1,  0,  1,  1,  0,  0],\n",
       "       [19, 13,  1,  0,  0,  1,  0,  0],\n",
       "       [19, 26,  2,  1,  0,  1,  1,  0],\n",
       "       [19, 27,  3,  1,  0,  1,  0,  0],\n",
       "       [19, 30,  3,  1,  1,  2,  2,  2],\n",
       "       [19, 31,  2,  2,  3,  4,  0,  1],\n",
       "       [19, 35,  4,  0,  2,  3,  1,  0],\n",
       "       [19, 36,  4,  0,  2,  3,  4,  0],\n",
       "       [19, 38,  2,  1,  3,  4,  2,  1],\n",
       "       [19, 38,  3,  1,  1,  4,  2,  2],\n",
       "       [19, 39,  4,  1,  1,  3,  2,  0],\n",
       "       [20,  9,  1,  0,  0,  0,  0,  0],\n",
       "       [20, 16,  3,  0,  1,  0,  0,  0],\n",
       "       [20, 17,  3,  0,  0,  2,  1,  2],\n",
       "       [20, 24,  2,  1,  2,  1,  0,  1],\n",
       "       [20, 24,  2,  0,  1,  0,  2,  1],\n",
       "       [20, 27,  2,  0,  1,  2,  1,  1],\n",
       "       [20, 31,  2,  1,  1,  2,  2,  1],\n",
       "       [20, 32,  2,  0,  3,  1,  2,  0],\n",
       "       [20, 38,  2,  0,  2,  3,  3,  2],\n",
       "       [20, 48,  3,  1,  3,  4,  3,  2],\n",
       "       [20, 52,  4,  2,  3,  2,  3,  4],\n",
       "       [21, 27,  1,  1,  1,  1,  1,  2],\n",
       "       [22, 20,  1,  0,  0,  3,  1,  1],\n",
       "       [22, 30,  4,  0,  0,  1,  4,  1],\n",
       "       [22, 32,  1,  0,  2,  2,  2,  0],\n",
       "       [23, 20,  2,  0,  0,  0,  3,  0],\n",
       "       [24, 42,  2,  2,  3,  2,  3,  2],\n",
       "       [24, 49,  3,  3,  4,  1,  4,  4],\n",
       "       [25, 30,  2,  2,  1,  3,  2,  2],\n",
       "       [23, 31,  4,  0,  0,  2,  0,  0],\n",
       "       [25, 48,  3,  1,  3,  3,  4,  4],\n",
       "       [27, 28,  1,  0,  3,  1,  1,  2],\n",
       "       [28, 25,  1,  1,  0,  4,  1,  1],\n",
       "       [28, 42,  2,  1,  2,  4,  3,  4],\n",
       "       [29, 17,  2,  0,  0,  1,  1,  1],\n",
       "       [29, 19,  3,  0,  0,  1,  0,  0],\n",
       "       [30, 10,  2,  0,  0,  0,  1,  1],\n",
       "       [30, 35,  3,  2,  1,  4,  1,  1],\n",
       "       [32,  2,  1,  0,  0,  0,  0,  0],\n",
       "       [32, 31,  1,  3,  0,  1,  1,  4],\n",
       "       [34, 24,  0,  0,  0,  3,  3,  0],\n",
       "       [34, 27,  1,  0,  3,  1,  2,  1],\n",
       "       [29, 31,  4,  0,  0,  2,  0,  0],\n",
       "       [37, 35,  2,  0,  2,  2,  2,  2],\n",
       "       [38, 35,  2,  0,  3,  0,  1,  2],\n",
       "       [40, 35,  3,  2,  1,  4,  3,  3],\n",
       "       [40, 37,  2,  0,  2,  3,  2,  1],\n",
       "       [54, 24,  2,  0,  1,  2,  1,  0]], dtype=int64)"
      ]
     },
     "execution_count": 8,
     "metadata": {},
     "output_type": "execute_result"
    }
   ],
   "source": [
    "#!/usr/bin/env python -W ignore::DepreciationWarning\n",
    "import warnings\n",
    "import pandas as pd\n",
    "import numpy as np\n",
    "import csv\n",
    "from sklearn.naive_bayes import GaussianNB\n",
    "from sklearn.metrics import confusion_matrix\n",
    "\n",
    "warnings.simplefilter(action='ignore', category=FutureWarning)\n",
    "\n",
    "raw = pd.read_csv(\"dataset.csv\")\n",
    "df = raw[['Age','OCIR Score','Q2','Q5','Q10','Q12','Q15','Q17']]\n",
    "df.as_matrix(columns=df.columns[0:])\n",
    "#raw.Class"
   ]
  },
  {
   "cell_type": "code",
   "execution_count": 9,
   "metadata": {},
   "outputs": [
    {
     "name": "stdout",
     "output_type": "stream",
     "text": [
      "type of x <class 'numpy.ndarray'>\n",
      "type of y <class 'numpy.ndarray'>\n"
     ]
    }
   ],
   "source": [
    "\n",
    "\n",
    "x, y = df.values, raw.Class.values\n",
    "print(\"type of x {}\".format(type(x)))\n",
    "print(\"type of y {}\".format(type(y)))"
   ]
  },
  {
   "cell_type": "code",
   "execution_count": 10,
   "metadata": {},
   "outputs": [],
   "source": [
    "from sklearn.model_selection import cross_val_score, train_test_split\n",
    "from sklearn.metrics import accuracy_score, classification_report\n",
    "\n",
    "\n",
    "x_train, x_test, y_train, y_test = train_test_split(x,y,stratify=y,random_state=17,train_size=0.7)"
   ]
  },
  {
   "cell_type": "code",
   "execution_count": 11,
   "metadata": {
    "scrolled": true
   },
   "outputs": [
    {
     "name": "stdout",
     "output_type": "stream",
     "text": [
      "accuracy score 0.75\n",
      "             precision    recall  f1-score   support\n",
      "\n",
      "          0       0.43      1.00      0.60         3\n",
      "          1       1.00      0.69      0.82        13\n",
      "\n",
      "avg / total       0.89      0.75      0.78        16\n",
      "\n"
     ]
    }
   ],
   "source": [
    "gnb = GaussianNB()\n",
    "gnb.fit(x_train,y_train)\n",
    "y_pred = gnb.predict(x_test)\n",
    "\n",
    "print(\"accuracy score {}\".format(accuracy_score(y_test, y_pred)))\n",
    "#np.mean(y_pred == y_test)\n",
    "#print(\"accuracy score 2 {}\".format(np.mean(y_pred==y_test)))\n",
    "print(classification_report(y_test,y_pred))\n"
   ]
  },
  {
   "cell_type": "code",
   "execution_count": 12,
   "metadata": {},
   "outputs": [
    {
     "name": "stdout",
     "output_type": "stream",
     "text": [
      "standard scores of gnb: [1.         0.75       0.75       1.         1.         1.\n",
      " 1.         0.75       0.66666667 1.        ]\n",
      "average of gnb std scores: 0.8916666666666668\n"
     ]
    },
    {
     "name": "stderr",
     "output_type": "stream",
     "text": [
      "C:\\Users\\Paolo\\Anaconda3\\lib\\site-packages\\sklearn\\model_selection\\_split.py:605: Warning: The least populated class in y has only 8 members, which is too few. The minimum number of members in any class cannot be less than n_splits=10.\n",
      "  % (min_groups, self.n_splits)), Warning)\n"
     ]
    }
   ],
   "source": [
    "scores = cross_val_score(gnb, x_train, y_train, cv=10)\n",
    "print(\"standard scores of gnb: {}\".format(scores))\n",
    "print(\"average of gnb std scores: {}\".format(scores.mean()))"
   ]
  },
  {
   "cell_type": "code",
   "execution_count": 13,
   "metadata": {
    "scrolled": true
   },
   "outputs": [
    {
     "data": {
      "text/plain": [
       "array([[3, 0],\n",
       "       [4, 9]], dtype=int64)"
      ]
     },
     "execution_count": 13,
     "metadata": {},
     "output_type": "execute_result"
    }
   ],
   "source": [
    " confusion_matrix(y_test, y_pred)"
   ]
  },
  {
   "cell_type": "code",
   "execution_count": null,
   "metadata": {},
   "outputs": [],
   "source": []
  }
 ],
 "metadata": {
  "kernelspec": {
   "display_name": "Python 3",
   "language": "python",
   "name": "python3"
  },
  "language_info": {
   "codemirror_mode": {
    "name": "ipython",
    "version": 3
   },
   "file_extension": ".py",
   "mimetype": "text/x-python",
   "name": "python",
   "nbconvert_exporter": "python",
   "pygments_lexer": "ipython3",
   "version": "3.5.6"
  }
 },
 "nbformat": 4,
 "nbformat_minor": 2
}
